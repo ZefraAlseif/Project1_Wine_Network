{
  "nbformat": 4,
  "nbformat_minor": 0,
  "metadata": {
    "colab": {
      "name": "Project1_Wine_Network.ipynb",
      "provenance": [],
      "authorship_tag": "ABX9TyOVzfKMuyDgcbnqOSyS3DH6",
      "include_colab_link": true
    },
    "kernelspec": {
      "name": "python3",
      "display_name": "Python 3"
    },
    "language_info": {
      "name": "python"
    }
  },
  "cells": [
    {
      "cell_type": "markdown",
      "metadata": {
        "id": "view-in-github",
        "colab_type": "text"
      },
      "source": [
        "<a href=\"https://colab.research.google.com/github/ZefraAlseif/Project1_Wine_Network/blob/main/Project1_Wine_Network.ipynb\" target=\"_parent\"><img src=\"https://colab.research.google.com/assets/colab-badge.svg\" alt=\"Open In Colab\"/></a>"
      ]
    },
    {
      "cell_type": "code",
      "execution_count": null,
      "metadata": {
        "id": "dQZFryMU8A7I"
      },
      "outputs": [],
      "source": [
        "# Import Required Libraries\n",
        "import matplotlin.pylot as plt\n",
        "import numpy as np\n",
        "# This time we need to also import pandas\n",
        "import pandas as pd\n",
        "\n",
        "# Read in white wine data\n",
        "# Uses PANDAS (pd) to create a PANDAS DataFrame Object:\n",
        "white = pd.read_csv(\"http://archive.ics.uci.edu/ml/machine-learning-databases/wine-quality/winequality-white.csv\")\n",
        "\n",
        "# Read in red wine data\n",
        "# Uses PANDAS (pd) to create a PANDAS DataFrame Object:\n",
        "red = pd.read_csv(\"http://archive.ics.uci.edu/ml/machine-learning-databases/wine-quality/winequality-red.csv\")\n",
        "\n",
        "# Add 'type' column to differentiate wether is a red (type = 1) or white wine (type = 0)\n",
        "red['type'] = 1\n",
        "white['type'] = 0\n",
        "\n",
        "# Append white to red - done with PANDAS\n",
        "# This will offer all wines in a single pandas DataFrame\n",
        "wines = red.append(white,ignore_index = true)\n",
        "\n",
        "# Import SKLEARN\n",
        "import sklearn\n",
        "# Import 'train_test_split\n",
        "\n"
      ]
    }
  ]
}
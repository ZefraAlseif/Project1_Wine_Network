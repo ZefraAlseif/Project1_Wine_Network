{
  "nbformat": 4,
  "nbformat_minor": 0,
  "metadata": {
    "colab": {
      "name": "Project1_Wine_Network.ipynb",
      "provenance": [],
      "collapsed_sections": [],
      "include_colab_link": true
    },
    "kernelspec": {
      "name": "python3",
      "display_name": "Python 3"
    },
    "language_info": {
      "name": "python"
    }
  },
  "cells": [
    {
      "cell_type": "markdown",
      "metadata": {
        "id": "view-in-github",
        "colab_type": "text"
      },
      "source": [
        "<a href=\"https://colab.research.google.com/github/ZefraAlseif/Project1_Wine_Network/blob/main/Project1_Wine_Network.ipynb\" target=\"_parent\"><img src=\"https://colab.research.google.com/assets/colab-badge.svg\" alt=\"Open In Colab\"/></a>"
      ]
    },
    {
      "cell_type": "markdown",
      "source": [
        "# Adapting the original wine data to a regression model and classification model"
      ],
      "metadata": {
        "id": "D5MXeNqXMXe6"
      }
    },
    {
      "cell_type": "code",
      "source": [
        "#@title Data as Numpy Arrays\n",
        "import matplotlib.pyplot as plt\n",
        "import numpy as np\n",
        "# This time we need to also import pandas\n",
        "import pandas as pd\n",
        "from io import StringIO\n",
        "\n",
        "# Read in white wine data\n",
        "# Uses PANDAS (pd) to create a PANDAS DataFrame Object:\n",
        "white = pd.read_csv(\"http://archive.ics.uci.edu/ml/machine-learning-databases/wine-quality/winequality-white.csv\", sep = ';')\n",
        "\n",
        "# Read in red wine data\n",
        "# Uses PANDAS (pd) to create a PANDAS DataFrame Object:\n",
        "red = pd.read_csv(\"http://archive.ics.uci.edu/ml/machine-learning-databases/wine-quality/winequality-red.csv\", sep =';')\n",
        "\n",
        "red['type'] = 1\n",
        "white['type'] = 0\n",
        "\n",
        "wines = red.append(white, ignore_index = True)\n",
        "\n",
        "# Import SKLEARN\n",
        "import sklearn\n",
        "\n",
        "# Import `train_test_split` from `sklearn.model_selection`\n",
        "from sklearn.model_selection import train_test_split\n",
        "# Specify the data -\n",
        "X1 = wines.iloc[:, 0:11]\n",
        "X2 = wines.iloc[:,12]\n",
        "X = pd.concat([X1,X2],axis = 1)\n",
        "\n",
        "y = np.ravel(wines.quality)\n",
        "\n",
        "# Splitting the data set for training and validating - Done with SKLEARN\n",
        "X_train, X_valid, y_train, y_valid = train_test_split(X,y, test_size = 0.25, random_state = 45)\n",
        "\n",
        "# Converting X_train & X_test DataFrame s to TF sensors\n",
        "# Will use NumPy, TF, & Keras after this\n",
        "# import tensorflow as tf\n",
        "\n",
        "Xtrain = X_train.to_numpy()\n",
        "X_valid = X_valid.to_numpy()\n",
        "\n",
        "X_valid\n",
        "# In reality:\n",
        "# [1] ALL THE Xtrain patterns (with their y_train targets)\n",
        "# will be used for TRAINING ([TR]), as Xtrain & y_train\n",
        "# [2] MOST OF THE X_valid patterns (and their y_valid targets)\n",
        "# will be used for VALIDATION ([TT]), as X_val & y_val\n",
        "# BUT WE WILL SET ASIDE THE LAST 10 for \"testing\" ([TS])\n",
        "# as X_tst & y_tst\n",
        "\n",
        "# Retain the first 1615 patterns for validation ([TT])\n",
        "Xval = X_valid[:1615]\n",
        "Xval.shape\n",
        "\n",
        "# and now set aside the last 10 for test\n",
        "Xtst = X_valid[1615:]\n",
        "Xtst.shape\n",
        "\n",
        "# Same for the corresponding targets\n",
        "# Retain the first 1615 for validation ([TT])\n",
        "y_val = y_valid[:1615]\n",
        "y_val.shape\n",
        "\n",
        "y_tst = y_valid[1615:]\n",
        "y_tst.shape \n",
        "y_tst\n",
        "\n",
        "# Now, in addition, create the targets as one-hot-encoded 4 quality levels\n",
        "# We will track these few targets through the conversion process\n",
        "y_train[272:283]\n",
        "\n",
        "# Function create rank-1 arrays where 3,4,5,6,7,8,9 are mapped to 1 or 2 or 3 or 4 \n",
        "def to_4cs(x):\n",
        "  lx = len(x)\n",
        "  results = np.zeros(lx)\n",
        "  for i in range(lx):\n",
        "    # print(\"start\")\n",
        "    xa = x[i];\n",
        "    if xa <= 3:\n",
        "      results[i] = 1\n",
        "    elif xa <= 6:\n",
        "      results[i] = 2\n",
        "    elif xa <= 8:\n",
        "      results[i] = 3\n",
        "    else:\n",
        "      results[i] = 4\n",
        "    # results [i, label] = 1\n",
        "  results = results.astype(int)\n",
        "  return results\n",
        "\n",
        "train_labels = to_4cs(y_train)\n",
        "val_labels = to_4cs(y_val)\n",
        "tst_labels = to_4cs(y_tst)\n",
        "\n",
        "# Let's verify that the training targets that we are tracking \n",
        "# were converted to levels (1 = BAD; 2 = Medium; 3 = GOOD; 4- Excellent) correctly:\n",
        "train_labels[272:283]\n",
        "\n",
        "# Now, one shot encoding of all 3 target arrays\n",
        "# define a function to do the \n",
        "\n",
        "def to_one_hot(labels, dimension = 4):\n",
        "  results = np.zeros((len(labels), dimension))\n",
        "  for i, label in enumerate(labels-1):\n",
        "    results[i, label] = 1.\n",
        "  return results\n",
        "\n",
        "one_hot_train_labels = to_one_hot(train_labels)\n",
        "one_hot_val_labels = to_one_hot(val_labels)\n",
        "one_hot_tst_labels = to_one_hot(tst_labels)\n",
        "\n",
        "#Let's verify that the training targets we have tracked were\n",
        "# one-hot encoded correctly\n",
        "Xtrain.shape\n",
        "\n",
        "# SO, AFTER EXECUTING THIS CELL, YOU WILL HAVE:\n",
        "# FOR TRAINING:\n",
        "# Xtrain (4872, 12)...y_train (4872,)...train_labels(4872,)....one_hot_train_labels (4872,4)\n",
        "# FOR VALIDATING:\n",
        "# Xval (1615, 12)...y_val (1615,)...val_labels(1615,)...one_hot_val_labels (1615,4)\n",
        "# FOR TESTING:\n",
        "# Xtst (10, 12)...y_tst (10,)...tst_labels(10,)... one_hot_tst_labels (10,4)\n",
        "# PLEASE DO NOT CHANGE THE NAMES OF THESE VARIABLES (So that instructor can use them)\n"
      ],
      "metadata": {
        "id": "RALOila3bW_c",
        "cellView": "code",
        "outputId": "dc2d3e51-4dc3-45ad-a431-01c3b42bc0b7",
        "colab": {
          "base_uri": "https://localhost:8080/"
        }
      },
      "execution_count": 49,
      "outputs": [
        {
          "output_type": "execute_result",
          "data": {
            "text/plain": [
              "(4872, 12)"
            ]
          },
          "metadata": {},
          "execution_count": 49
        }
      ]
    },
    {
      "cell_type": "markdown",
      "source": [
        "# Regression Model 1 (regmodl1)"
      ],
      "metadata": {
        "id": "ElzmVsZeMsZ8"
      }
    },
    {
      "cell_type": "code",
      "source": [
        "from keras.engine.input_layer import Input\n",
        "import tensorflow as tf\n",
        "from tensorflow import keras\n",
        "from tensorflow.keras import layers\n",
        "\n",
        "def build_model():\n",
        "  regmodl1 = keras.Sequential(\n",
        "      [\n",
        "        layers.Dense(50, activation = 'relu'),\n",
        "        layers.Dense(8, activation = 'relu'),\n",
        "        layers.Dense(1, activation = 'relu')\n",
        "      ]\n",
        ")\n",
        "  regmodl1.compile(optimizer = \"rmsprop\", loss = \"mse\", metrics = [\"mae\"])\n",
        "  return regmodl1\n",
        "\n",
        "network = build_model()\n",
        "network.fit(x = Xtrain,y = train_labels, batch_size = 32, epochs = 100, verbose = 2)\n",
        "\n",
        "test_loss, test_mae = network.evaluate(Xval, val_labels)\n",
        "\n",
        "network.summary()"
      ],
      "metadata": {
        "id": "JV7YqcIrM2Op"
      },
      "execution_count": null,
      "outputs": []
    },
    {
      "cell_type": "markdown",
      "source": [
        "## Testing Networks"
      ],
      "metadata": {
        "id": "bUUATgIT4FNC"
      }
    },
    {
      "cell_type": "code",
      "source": [
        "network.predict(Xtrain[0:100])\n"
      ],
      "metadata": {
        "id": "S9EA3aMMybAk",
        "outputId": "b0b103a9-bc83-418b-a0ab-bc7b67ee3c68",
        "colab": {
          "base_uri": "https://localhost:8080/"
        }
      },
      "execution_count": 64,
      "outputs": [
        {
          "output_type": "execute_result",
          "data": {
            "text/plain": [
              "array([[1.8673202],\n",
              "       [1.793179 ],\n",
              "       [2.1105266],\n",
              "       [2.0867121],\n",
              "       [1.7911688],\n",
              "       [1.864751 ],\n",
              "       [1.9546136],\n",
              "       [2.203823 ],\n",
              "       [1.9776981],\n",
              "       [1.822996 ],\n",
              "       [1.8550116],\n",
              "       [1.8486339],\n",
              "       [1.9304296],\n",
              "       [2.0189373],\n",
              "       [2.0305266],\n",
              "       [1.8845457],\n",
              "       [1.904216 ],\n",
              "       [1.9693415],\n",
              "       [1.885527 ],\n",
              "       [2.279892 ],\n",
              "       [2.224602 ],\n",
              "       [2.5354345],\n",
              "       [2.0214827],\n",
              "       [2.053905 ],\n",
              "       [2.172449 ],\n",
              "       [1.8286525],\n",
              "       [2.2141447],\n",
              "       [1.8113589],\n",
              "       [1.96307  ],\n",
              "       [2.3010285],\n",
              "       [1.9040622],\n",
              "       [1.8855745],\n",
              "       [1.9618276],\n",
              "       [2.2585964],\n",
              "       [2.0752366],\n",
              "       [1.8832793],\n",
              "       [2.1380699],\n",
              "       [2.0962946],\n",
              "       [1.8868552],\n",
              "       [1.8728888],\n",
              "       [2.0813146],\n",
              "       [2.1915307],\n",
              "       [1.9611857],\n",
              "       [2.0272944],\n",
              "       [1.875285 ],\n",
              "       [2.0578263],\n",
              "       [2.1879356],\n",
              "       [2.2123337],\n",
              "       [2.4015126],\n",
              "       [2.1422808],\n",
              "       [2.1990082],\n",
              "       [1.771631 ],\n",
              "       [2.0185993],\n",
              "       [2.134432 ],\n",
              "       [1.9769926],\n",
              "       [2.1101792],\n",
              "       [1.7536685],\n",
              "       [2.0835779],\n",
              "       [2.1253192],\n",
              "       [1.9759426],\n",
              "       [2.1284003],\n",
              "       [2.285481 ],\n",
              "       [2.0657556],\n",
              "       [2.0741127],\n",
              "       [2.1413925],\n",
              "       [1.9508157],\n",
              "       [2.0089657],\n",
              "       [1.9483792],\n",
              "       [2.0922642],\n",
              "       [2.0043375],\n",
              "       [1.6855749],\n",
              "       [1.8903878],\n",
              "       [2.2588317],\n",
              "       [2.1655164],\n",
              "       [1.9203249],\n",
              "       [1.887222 ],\n",
              "       [1.825508 ],\n",
              "       [2.0108705],\n",
              "       [2.0459325],\n",
              "       [1.9511762],\n",
              "       [1.9850643],\n",
              "       [2.2076626],\n",
              "       [2.1287014],\n",
              "       [1.9819256],\n",
              "       [2.0123582],\n",
              "       [1.9373915],\n",
              "       [1.9512645],\n",
              "       [1.7864695],\n",
              "       [2.07563  ],\n",
              "       [2.3738406],\n",
              "       [2.3056004],\n",
              "       [2.097645 ],\n",
              "       [1.7928364],\n",
              "       [1.8677975],\n",
              "       [1.9297436],\n",
              "       [1.8757803],\n",
              "       [1.9277402],\n",
              "       [1.8266293],\n",
              "       [1.8244144],\n",
              "       [2.237513 ]], dtype=float32)"
            ]
          },
          "metadata": {},
          "execution_count": 64
        }
      ]
    }
  ]
}